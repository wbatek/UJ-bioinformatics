{
 "cells": [
  {
   "cell_type": "code",
   "id": "initial_id",
   "metadata": {
    "collapsed": true,
    "ExecuteTime": {
     "end_time": "2024-10-24T14:17:03.236372Z",
     "start_time": "2024-10-24T14:17:03.016791Z"
    }
   },
   "source": [
    "from Bio import Entrez\n",
    "from Bio.Align import substitution_matrices\n",
    "from Bio import SeqIO\n",
    "import numpy as np"
   ],
   "outputs": [],
   "execution_count": 1
  },
  {
   "cell_type": "code",
   "source": [
    "Entrez.email = 'wojciech1.batko@student.uj.edu.pl'"
   ],
   "metadata": {
    "collapsed": false,
    "ExecuteTime": {
     "end_time": "2024-10-24T14:17:05.389896Z",
     "start_time": "2024-10-24T14:17:05.384399Z"
    }
   },
   "id": "9ca39951f876d172",
   "outputs": [],
   "execution_count": 2
  },
  {
   "cell_type": "code",
   "source": [
    "def fetch_sequence(gene_id):\n",
    "    handle = Entrez.efetch(db='protein', id=gene_id, rettype='fasta', retmode='text')\n",
    "    sequence_record = SeqIO.read(handle, 'fasta')\n",
    "    return str(sequence_record.seq)"
   ],
   "metadata": {
    "collapsed": false,
    "ExecuteTime": {
     "end_time": "2024-10-24T14:17:05.962609Z",
     "start_time": "2024-10-24T14:17:05.959203Z"
    }
   },
   "id": "8504327c3c13118a",
   "outputs": [],
   "execution_count": 3
  },
  {
   "cell_type": "code",
   "source": [
    "blosum62 = substitution_matrices.load(\"BLOSUM62\")"
   ],
   "metadata": {
    "collapsed": false,
    "ExecuteTime": {
     "end_time": "2024-10-24T14:17:06.378729Z",
     "start_time": "2024-10-24T14:17:06.372277Z"
    }
   },
   "id": "ca9c18961a6d8298",
   "outputs": [],
   "execution_count": 4
  },
  {
   "cell_type": "code",
   "source": [
    "map = {ch: i for i, ch in enumerate(blosum62.alphabet)}"
   ],
   "metadata": {
    "collapsed": false,
    "ExecuteTime": {
     "end_time": "2024-10-24T14:17:06.628857Z",
     "start_time": "2024-10-24T14:17:06.625826Z"
    }
   },
   "id": "a9c6f41f7ece0dfc",
   "outputs": [],
   "execution_count": 5
  },
  {
   "cell_type": "code",
   "source": [
    "gap_penalty = -7"
   ],
   "metadata": {
    "collapsed": false,
    "ExecuteTime": {
     "end_time": "2024-10-24T14:17:06.912257Z",
     "start_time": "2024-10-24T14:17:06.909122Z"
    }
   },
   "id": "468a33dcc6d1ca8",
   "outputs": [],
   "execution_count": 6
  },
  {
   "cell_type": "code",
   "source": [
    "def needleman_wunsch(first, second):\n",
    "    a, b = len(first) + 1, len(second) + 1\n",
    "    \n",
    "    H = np.zeros((a, b), dtype=np.int32)\n",
    "    for i in range(b):\n",
    "        H[0][i] = i * gap_penalty\n",
    "    for j in range(a):\n",
    "        H[j][0] = j * gap_penalty\n",
    "    for i in range(1, b):\n",
    "        for j in range(1, a):\n",
    "            no_gap = blosum62[map[second[i - 1]]][map[first[j - 1]]] + H[j - 1][i - 1]\n",
    "            first_gap = H[j][i - 1] + gap_penalty\n",
    "            second_gap = H[j - 1][i] + gap_penalty\n",
    "            H[j][i] = np.max([no_gap, first_gap, second_gap])\n",
    "\n",
    "    return find_all_alignments(H, first, second)\n",
    "    \n",
    "def traceback_all(i, j, H, first, second, current_r1='', current_r2='', alignments=[]):\n",
    "    if i == 0 and j == 0:\n",
    "        alignments.append((current_r1, current_r2))\n",
    "        return\n",
    "    \n",
    "    if i > 0 and j > 0 and H[j][i] == H[j - 1][i - 1] + blosum62[map[second[i - 1]]][map[first[j - 1]]]:\n",
    "        traceback_all(i - 1, j - 1, H, first, second, first[j - 1] + current_r1, second[i - 1] + current_r2, alignments)\n",
    "    \n",
    "    if j > 0 and H[j][i] == H[j - 1][i] + gap_penalty:\n",
    "        traceback_all(i, j - 1, H, first, second, first[j - 1] + current_r1, '-' + current_r2, alignments)\n",
    "    \n",
    "    if i > 0 and H[j][i] == H[j][i - 1] + gap_penalty:\n",
    "        traceback_all(i - 1, j, H, first, second, '-' + current_r1, second[i - 1] + current_r2, alignments)\n",
    "\n",
    "def find_all_alignments(H, first, second):\n",
    "    alignments = []\n",
    "    i, j = len(second), len(first)\n",
    "    traceback_all(i, j, H, first, second, '', '', alignments)\n",
    "    return alignments\n"
   ],
   "metadata": {
    "collapsed": false,
    "ExecuteTime": {
     "end_time": "2024-10-24T14:17:07.263966Z",
     "start_time": "2024-10-24T14:17:07.256464Z"
    }
   },
   "id": "626c2e1576217523",
   "outputs": [],
   "execution_count": 7
  },
  {
   "cell_type": "markdown",
   "source": [
    "# TESTING"
   ],
   "metadata": {
    "collapsed": false
   },
   "id": "350012f2d333c01"
  },
  {
   "cell_type": "code",
   "source": [
    "x, y = fetch_sequence(40886941), fetch_sequence(34849618)\n",
    "needleman_wunsch(x, y)"
   ],
   "metadata": {
    "collapsed": false,
    "ExecuteTime": {
     "end_time": "2024-10-24T14:17:10.220702Z",
     "start_time": "2024-10-24T14:17:08.361855Z"
    }
   },
   "id": "49345090a1e198f7",
   "outputs": [
    {
     "data": {
      "text/plain": [
       "[('MVHLTPEEKSAVTALWGKVNVDEVGGEALGRLLVVYPWTQRLFESFGDLFTPDAVMGNPKVKAHGKKVLGAFSDGPAHLDNLKGTFATLSELHCDKLHVDPENFRLLGNVLVCVLAHHFGKEFTPPVQAAYQKVVAGVANALAHKYH',\n",
       "  'MVHLTDAEKAAVNGLWGKVNPDDVGGEALGRLLVVYPWTQRYFDSFGDLSSASAIMGNPKVKAHGKKVINAFNDGLKHLDNLKGTFAHLSELHCDKLHVDPENFRLLGNMIVIVLGHHLGKEFTPCAQAAFQKVVAGVASALAHKYH')]"
      ]
     },
     "execution_count": 8,
     "metadata": {},
     "output_type": "execute_result"
    }
   ],
   "execution_count": 8
  }
 ],
 "metadata": {
  "kernelspec": {
   "display_name": "Python 3",
   "language": "python",
   "name": "python3"
  },
  "language_info": {
   "codemirror_mode": {
    "name": "ipython",
    "version": 2
   },
   "file_extension": ".py",
   "mimetype": "text/x-python",
   "name": "python",
   "nbconvert_exporter": "python",
   "pygments_lexer": "ipython2",
   "version": "2.7.6"
  }
 },
 "nbformat": 4,
 "nbformat_minor": 5
}
