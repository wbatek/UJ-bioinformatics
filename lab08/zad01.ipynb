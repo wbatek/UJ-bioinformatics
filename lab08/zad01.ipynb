{
 "cells": [
  {
   "cell_type": "code",
   "id": "initial_id",
   "metadata": {
    "collapsed": true,
    "ExecuteTime": {
     "end_time": "2024-11-20T22:46:03.206031Z",
     "start_time": "2024-11-20T22:46:03.160370Z"
    }
   },
   "source": [
    "from Bio import Align\n",
    "from Bio import Phylo\n",
    "from Bio import AlignIO"
   ],
   "outputs": [],
   "execution_count": 5
  },
  {
   "metadata": {
    "ExecuteTime": {
     "end_time": "2024-11-20T22:51:53.663396Z",
     "start_time": "2024-11-20T22:51:53.652858Z"
    }
   },
   "cell_type": "code",
   "source": "tree_file = 'muscle-I20241120-220508-0762-10565085-p1m.phylotree'",
   "id": "3aa2214ec457d0bb",
   "outputs": [],
   "execution_count": 9
  },
  {
   "metadata": {
    "ExecuteTime": {
     "end_time": "2024-11-20T22:52:09.472725Z",
     "start_time": "2024-11-20T22:52:09.462033Z"
    }
   },
   "cell_type": "code",
   "source": "tree = Phylo.read(tree_file, 'newick')",
   "id": "2d75fa417616707f",
   "outputs": [],
   "execution_count": 10
  },
  {
   "metadata": {
    "ExecuteTime": {
     "end_time": "2024-11-20T22:52:18.044311Z",
     "start_time": "2024-11-20T22:52:18.034998Z"
    }
   },
   "cell_type": "code",
   "source": "Phylo.draw_ascii(tree)",
   "id": "75ae8adc947ca10a",
   "outputs": [
    {
     "name": "stdout",
     "output_type": "stream",
     "text": [
      "                   _________________ NP_038627.1\n",
      "              ____|\n",
      "             |    |                 __________________________ XP_043946177.1\n",
      "             |    |________________|\n",
      "             |                     |   ___________________ NP_998288.1\n",
      "             |                     |__|\n",
      "    _________|                        |______________________ NP_001098350.1\n",
      "   |         |\n",
      "   |         |           , XP_019313834.1\n",
      "   |         |    _______|\n",
      "   |         |   |       | XP_042786734.1\n",
      "   |         |___|\n",
      "  _|             |  ______ XP_004272975.2\n",
      " | |             |_|\n",
      " | |               |       , XP_004014663.3\n",
      " | |               |_______|\n",
      " | |                       |_ NP_001301198.1\n",
      " | |\n",
      " | |_______ XP_054397831.1\n",
      " |\n",
      "_| XP_018872767.3\n",
      " |\n",
      " | NP_004985.2\n",
      " |\n",
      " | XP_008949630.3\n",
      "\n"
     ]
    }
   ],
   "execution_count": 11
  },
  {
   "metadata": {
    "ExecuteTime": {
     "end_time": "2024-11-20T23:03:29.857899Z",
     "start_time": "2024-11-20T23:03:29.854039Z"
    }
   },
   "cell_type": "code",
   "source": "human_name = \"NP_004985.2\"",
   "id": "3070474721a0a954",
   "outputs": [],
   "execution_count": 29
  },
  {
   "metadata": {
    "ExecuteTime": {
     "end_time": "2024-11-20T23:03:30.162569Z",
     "start_time": "2024-11-20T23:03:30.157987Z"
    }
   },
   "cell_type": "code",
   "source": "human_node = tree.find_any(human_name)",
   "id": "2bace56543490e80",
   "outputs": [],
   "execution_count": 30
  },
  {
   "metadata": {
    "ExecuteTime": {
     "end_time": "2024-11-20T23:04:48.589991Z",
     "start_time": "2024-11-20T23:04:48.581117Z"
    }
   },
   "cell_type": "code",
   "source": "terminals = tree.get_terminals()",
   "id": "dc962665350247e2",
   "outputs": [],
   "execution_count": 35
  },
  {
   "metadata": {
    "ExecuteTime": {
     "end_time": "2024-11-20T23:06:06.908674Z",
     "start_time": "2024-11-20T23:06:06.901599Z"
    }
   },
   "cell_type": "code",
   "source": [
    "for terminal in terminals:\n",
    "    dist = tree.distance(human_node, terminal)\n",
    "    print(f\"Distance between {human_name} and {terminal.name}: {dist:.4f}\")"
   ],
   "id": "f0fd908b5b635dad",
   "outputs": [
    {
     "name": "stdout",
     "output_type": "stream",
     "text": [
      "Distance between NP_004985.2 and NP_038627.1: 0.2470\n",
      "Distance between NP_004985.2 and XP_043946177.1: 0.4238\n",
      "Distance between NP_004985.2 and NP_998288.1: 0.4028\n",
      "Distance between NP_004985.2 and NP_001098350.1: 0.4209\n",
      "Distance between NP_004985.2 and XP_019313834.1: 0.1747\n",
      "Distance between NP_004985.2 and XP_042786734.1: 0.1749\n",
      "Distance between NP_004985.2 and XP_004272975.2: 0.1804\n",
      "Distance between NP_004985.2 and XP_004014663.3: 0.1922\n",
      "Distance between NP_004985.2 and NP_001301198.1: 0.1981\n",
      "Distance between NP_004985.2 and XP_054397831.1: 0.0741\n",
      "Distance between NP_004985.2 and XP_018872767.3: 0.0101\n",
      "Distance between NP_004985.2 and NP_004985.2: 0.0000\n",
      "Distance between NP_004985.2 and XP_008949630.3: 0.0057\n"
     ]
    }
   ],
   "execution_count": 37
  },
  {
   "metadata": {},
   "cell_type": "code",
   "outputs": [],
   "execution_count": null,
   "source": "",
   "id": "2c3f0bfebb526b5"
  }
 ],
 "metadata": {
  "kernelspec": {
   "display_name": "Python 3",
   "language": "python",
   "name": "python3"
  },
  "language_info": {
   "codemirror_mode": {
    "name": "ipython",
    "version": 2
   },
   "file_extension": ".py",
   "mimetype": "text/x-python",
   "name": "python",
   "nbconvert_exporter": "python",
   "pygments_lexer": "ipython2",
   "version": "2.7.6"
  }
 },
 "nbformat": 4,
 "nbformat_minor": 5
}
