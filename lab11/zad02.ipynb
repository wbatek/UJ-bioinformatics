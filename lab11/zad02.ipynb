{
 "cells": [
  {
   "cell_type": "code",
   "id": "initial_id",
   "metadata": {
    "collapsed": true,
    "ExecuteTime": {
     "end_time": "2024-12-17T20:25:18.169229Z",
     "start_time": "2024-12-17T20:25:18.165795Z"
    }
   },
   "source": [
    "from Bio import Cluster\n",
    "from Bio.Cluster import kcluster\n",
    "import numpy as np"
   ],
   "outputs": [],
   "execution_count": 13
  },
  {
   "metadata": {
    "ExecuteTime": {
     "end_time": "2024-12-17T20:25:18.350463Z",
     "start_time": "2024-12-17T20:25:18.347837Z"
    }
   },
   "cell_type": "code",
   "source": "file_path = 'yeast_expression.txt'",
   "id": "9315eb9281efbeed",
   "outputs": [],
   "execution_count": 14
  },
  {
   "metadata": {
    "ExecuteTime": {
     "end_time": "2024-12-17T20:25:18.534501Z",
     "start_time": "2024-12-17T20:25:18.525967Z"
    }
   },
   "cell_type": "code",
   "source": [
    "yeast_mat = np.zeros((0,7))\n",
    "with open(file_path, 'r') as f:\n",
    "    for line in f:\n",
    "        if line.strip():\n",
    "            try:\n",
    "                row = [float(x) for x in line.strip().split()[:-1]]\n",
    "                yeast_row = np.asarray([row])\n",
    "                yeast_mat = np.concatenate((yeast_mat, yeast_row))\n",
    "            except:\n",
    "                pass"
   ],
   "id": "65a4d6d43737f968",
   "outputs": [],
   "execution_count": 15
  },
  {
   "metadata": {
    "ExecuteTime": {
     "end_time": "2024-12-17T20:25:18.717815Z",
     "start_time": "2024-12-17T20:25:18.713046Z"
    }
   },
   "cell_type": "code",
   "source": "clusters, _, _ = kcluster(yeast_mat.T, nclusters=2, dist='e', npass=10)",
   "id": "9d1fec1a0e19c306",
   "outputs": [],
   "execution_count": 16
  },
  {
   "metadata": {
    "ExecuteTime": {
     "end_time": "2024-12-17T20:25:19.020202Z",
     "start_time": "2024-12-17T20:25:19.017998Z"
    }
   },
   "cell_type": "code",
   "source": [
    "for i, cluster in enumerate(clusters):\n",
    "    print(i, cluster)"
   ],
   "id": "c4d62b518e78af10",
   "outputs": [
    {
     "name": "stdout",
     "output_type": "stream",
     "text": [
      "0 1\n",
      "1 1\n",
      "2 1\n",
      "3 1\n",
      "4 1\n",
      "5 0\n",
      "6 0\n"
     ]
    }
   ],
   "execution_count": 17
  },
  {
   "metadata": {},
   "cell_type": "code",
   "outputs": [],
   "execution_count": null,
   "source": "",
   "id": "7d7a2115b986f9bb"
  }
 ],
 "metadata": {
  "kernelspec": {
   "display_name": "Python 3",
   "language": "python",
   "name": "python3"
  },
  "language_info": {
   "codemirror_mode": {
    "name": "ipython",
    "version": 2
   },
   "file_extension": ".py",
   "mimetype": "text/x-python",
   "name": "python",
   "nbconvert_exporter": "python",
   "pygments_lexer": "ipython2",
   "version": "2.7.6"
  }
 },
 "nbformat": 4,
 "nbformat_minor": 5
}
