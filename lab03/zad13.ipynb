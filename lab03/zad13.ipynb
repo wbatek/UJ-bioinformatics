{
 "cells": [
  {
   "cell_type": "code",
   "execution_count": 27,
   "id": "initial_id",
   "metadata": {
    "collapsed": true,
    "ExecuteTime": {
     "end_time": "2024-10-19T22:44:12.595491Z",
     "start_time": "2024-10-19T22:44:12.585483Z"
    }
   },
   "outputs": [],
   "source": [
    "from Bio.Seq import Seq\n",
    "from Bio.SeqRecord import SeqRecord\n",
    "from Bio import SeqIO\n",
    "from Bio import Entrez"
   ]
  },
  {
   "cell_type": "code",
   "outputs": [],
   "source": [
    "Entrez.email = 'your_mail@student.uj.edu.pl'\n",
    "handle = Entrez.einfo()\n",
    "result = Entrez.read(handle)"
   ],
   "metadata": {
    "collapsed": false,
    "ExecuteTime": {
     "end_time": "2024-10-19T22:44:13.601763Z",
     "start_time": "2024-10-19T22:44:13.028181Z"
    }
   },
   "id": "b226ca7ccf3d1e97",
   "execution_count": 28
  },
  {
   "cell_type": "markdown",
   "source": [
    "# ZADANIE 1"
   ],
   "metadata": {
    "collapsed": false
   },
   "id": "e654585fcce7a225"
  },
  {
   "cell_type": "code",
   "outputs": [],
   "source": [
    "search_term = 'BRCA1 AND human[Organism]'\n",
    "handle = Entrez.esearch(db='gene', term=search_term)\n",
    "gene_ids = Entrez.read(handle)['IdList']"
   ],
   "metadata": {
    "collapsed": false,
    "ExecuteTime": {
     "end_time": "2024-10-19T22:44:14.318913Z",
     "start_time": "2024-10-19T22:44:13.684551Z"
    }
   },
   "id": "3d9da06ed312cde7",
   "execution_count": 29
  },
  {
   "cell_type": "code",
   "outputs": [
    {
     "data": {
      "text/plain": "['7157', '1956', '7422', '3569', '7040', '4524', '3091', '2064', '2099', '6774', '672', '3845', '7421', '29126', '367', '207', '5243', '4790', '3553', '1499']"
     },
     "execution_count": 30,
     "metadata": {},
     "output_type": "execute_result"
    }
   ],
   "source": [
    "gene_ids"
   ],
   "metadata": {
    "collapsed": false,
    "ExecuteTime": {
     "end_time": "2024-10-19T22:44:14.323493Z",
     "start_time": "2024-10-19T22:44:14.320222Z"
    }
   },
   "id": "3a0dc8aa16619228",
   "execution_count": 30
  },
  {
   "cell_type": "code",
   "outputs": [
    {
     "name": "stdout",
     "output_type": "stream",
     "text": [
      "TASK 1:\n",
      "NAME=TP53\n",
      "CHROMOSOME=17\n",
      "MAP_LOCATION=17p13.1\n",
      "DESCRIPTION=tumor protein p53\n",
      "----------------\n",
      "NAME=EGFR\n",
      "CHROMOSOME=7\n",
      "MAP_LOCATION=7p11.2\n",
      "DESCRIPTION=epidermal growth factor receptor\n",
      "----------------\n",
      "NAME=VEGFA\n",
      "CHROMOSOME=6\n",
      "MAP_LOCATION=6p21.1\n",
      "DESCRIPTION=vascular endothelial growth factor A\n",
      "----------------\n",
      "NAME=IL6\n",
      "CHROMOSOME=7\n",
      "MAP_LOCATION=7p15.3\n",
      "DESCRIPTION=interleukin 6\n",
      "----------------\n",
      "NAME=TGFB1\n",
      "CHROMOSOME=19\n",
      "MAP_LOCATION=19q13.2\n",
      "DESCRIPTION=transforming growth factor beta 1\n",
      "----------------\n",
      "NAME=MTHFR\n",
      "CHROMOSOME=1\n",
      "MAP_LOCATION=1p36.22\n",
      "DESCRIPTION=methylenetetrahydrofolate reductase\n",
      "----------------\n",
      "NAME=HIF1A\n",
      "CHROMOSOME=14\n",
      "MAP_LOCATION=14q23.2\n",
      "DESCRIPTION=hypoxia inducible factor 1 subunit alpha\n",
      "----------------\n",
      "NAME=ERBB2\n",
      "CHROMOSOME=17\n",
      "MAP_LOCATION=17q12\n",
      "DESCRIPTION=erb-b2 receptor tyrosine kinase 2\n",
      "----------------\n",
      "NAME=ESR1\n",
      "CHROMOSOME=6\n",
      "MAP_LOCATION=6q25.1-q25.2\n",
      "DESCRIPTION=estrogen receptor 1\n",
      "----------------\n",
      "NAME=STAT3\n",
      "CHROMOSOME=17\n",
      "MAP_LOCATION=17q21.2\n",
      "DESCRIPTION=signal transducer and activator of transcription 3\n",
      "----------------\n",
      "NAME=BRCA1\n",
      "CHROMOSOME=17\n",
      "MAP_LOCATION=17q21.31\n",
      "DESCRIPTION=BRCA1 DNA repair associated\n",
      "----------------\n",
      "NAME=KRAS\n",
      "CHROMOSOME=12\n",
      "MAP_LOCATION=12p12.1\n",
      "DESCRIPTION=KRAS proto-oncogene, GTPase\n",
      "----------------\n",
      "NAME=VDR\n",
      "CHROMOSOME=12\n",
      "MAP_LOCATION=12q13.11\n",
      "DESCRIPTION=vitamin D receptor\n",
      "----------------\n",
      "NAME=CD274\n",
      "CHROMOSOME=9\n",
      "MAP_LOCATION=9p24.1\n",
      "DESCRIPTION=CD274 molecule\n",
      "----------------\n",
      "NAME=AR\n",
      "CHROMOSOME=X\n",
      "MAP_LOCATION=Xq12\n",
      "DESCRIPTION=androgen receptor\n",
      "----------------\n",
      "NAME=AKT1\n",
      "CHROMOSOME=14\n",
      "MAP_LOCATION=14q32.33\n",
      "DESCRIPTION=AKT serine/threonine kinase 1\n",
      "----------------\n",
      "NAME=ABCB1\n",
      "CHROMOSOME=7\n",
      "MAP_LOCATION=7q21.12\n",
      "DESCRIPTION=ATP binding cassette subfamily B member 1\n",
      "----------------\n",
      "NAME=NFKB1\n",
      "CHROMOSOME=4\n",
      "MAP_LOCATION=4q24\n",
      "DESCRIPTION=nuclear factor kappa B subunit 1\n",
      "----------------\n",
      "NAME=IL1B\n",
      "CHROMOSOME=2\n",
      "MAP_LOCATION=2q14.1\n",
      "DESCRIPTION=interleukin 1 beta\n",
      "----------------\n",
      "NAME=CTNNB1\n",
      "CHROMOSOME=3\n",
      "MAP_LOCATION=3p22.1\n",
      "DESCRIPTION=catenin beta 1\n",
      "----------------\n"
     ]
    }
   ],
   "source": [
    "ids = ','.join(gene_ids)\n",
    "\n",
    "handle = Entrez.esummary(db='gene', id=ids, retmode='xml')\n",
    "record_task1 = Entrez.read(handle)\n",
    "print(\"TASK 1:\")\n",
    "for rec in record_task1['DocumentSummarySet']['DocumentSummary']:\n",
    "    print(f\"NAME={rec['Name']}\")\n",
    "    print(f\"CHROMOSOME={rec['Chromosome']}\")\n",
    "    print(f\"MAP_LOCATION={rec['MapLocation']}\")\n",
    "    print(f\"DESCRIPTION={rec['Description']}\")\n",
    "    print(\"----------------\")"
   ],
   "metadata": {
    "collapsed": false,
    "ExecuteTime": {
     "end_time": "2024-10-19T22:44:17.708568Z",
     "start_time": "2024-10-19T22:44:16.674199Z"
    }
   },
   "id": "95cb9757390269c8",
   "execution_count": 31
  },
  {
   "cell_type": "markdown",
   "source": [
    "# ZADANIE 2"
   ],
   "metadata": {
    "collapsed": false
   },
   "id": "686f227645c08c30"
  },
  {
   "cell_type": "code",
   "outputs": [
    {
     "name": "stdout",
     "output_type": "stream",
     "text": [
      "TASK 2:\n",
      "672\n"
     ]
    }
   ],
   "source": [
    "search_term = 'BRCA1[Gene] AND human[Organism]'\n",
    "handle = Entrez.esearch(db='gene', term=search_term)\n",
    "saved_brca1_id = Entrez.read(handle)['IdList'][0]\n",
    "print(\"TASK 2:\")\n",
    "print(saved_brca1_id)"
   ],
   "metadata": {
    "collapsed": false,
    "ExecuteTime": {
     "end_time": "2024-10-19T22:44:20.087304Z",
     "start_time": "2024-10-19T22:44:19.444705Z"
    }
   },
   "id": "cc41794b99401c8d",
   "execution_count": 32
  },
  {
   "cell_type": "markdown",
   "source": [
    "# ZADANIE 3"
   ],
   "metadata": {
    "collapsed": false
   },
   "id": "f357f9503d5dade9"
  },
  {
   "cell_type": "code",
   "outputs": [],
   "source": [
    "handle = Entrez.elink(dbfrom='gene', db='omim', id=saved_brca1_id)\n",
    "records = Entrez.read(handle)"
   ],
   "metadata": {
    "collapsed": false,
    "ExecuteTime": {
     "end_time": "2024-10-19T22:44:47.738914Z",
     "start_time": "2024-10-19T22:44:47.206567Z"
    }
   },
   "id": "f56038e795a588ac",
   "execution_count": 35
  },
  {
   "cell_type": "code",
   "outputs": [
    {
     "name": "stdout",
     "output_type": "stream",
     "text": [
      "TASK 3:\n",
      "FANCONI ANEMIA, COMPLEMENTATION GROUP S; FANCS\n",
      "PANCREATIC CANCER, SUSCEPTIBILITY TO, 4; PNCA4\n",
      "BREAST-OVARIAN CANCER, FAMILIAL, SUSCEPTIBILITY TO, 1; BROVCA1\n",
      "BREAST CANCER\n",
      "BRCA1 DNA REPAIR-ASSOCIATED PROTEIN; BRCA1\n"
     ]
    }
   ],
   "source": [
    "omim_ids = []\n",
    "for linkset in records:\n",
    "    for link in linkset['LinkSetDb']:\n",
    "        if link['LinkName'] == 'gene_omim':\n",
    "            omim_ids.extend([link['Id'] for link in link['Link']])\n",
    "\n",
    "print(\"TASK 3:\")\n",
    "for omim_id in omim_ids:\n",
    "    handle = Entrez.esummary(db='omim', id=omim_id, rettype='gb', retmode='text')\n",
    "    record_task3 = Entrez.read(handle)\n",
    "    print(record_task3[0]['Title'])     "
   ],
   "metadata": {
    "collapsed": false,
    "ExecuteTime": {
     "end_time": "2024-10-19T22:44:51.690421Z",
     "start_time": "2024-10-19T22:44:48.568418Z"
    }
   },
   "id": "5a2f78ad7cb13459",
   "execution_count": 36
  },
  {
   "cell_type": "markdown",
   "source": [
    "# ZADANIE 4"
   ],
   "metadata": {
    "collapsed": false
   },
   "id": "93249e062712e088"
  },
  {
   "cell_type": "code",
   "outputs": [
    {
     "ename": "KeyboardInterrupt",
     "evalue": "",
     "output_type": "error",
     "traceback": [
      "\u001B[0;31m---------------------------------------------------------------------------\u001B[0m",
      "\u001B[0;31mKeyboardInterrupt\u001B[0m                         Traceback (most recent call last)",
      "Cell \u001B[0;32mIn[37], line 1\u001B[0m\n\u001B[0;32m----> 1\u001B[0m handle \u001B[38;5;241m=\u001B[39m Entrez\u001B[38;5;241m.\u001B[39melink(dbfrom\u001B[38;5;241m=\u001B[39m\u001B[38;5;124m'\u001B[39m\u001B[38;5;124mgene\u001B[39m\u001B[38;5;124m'\u001B[39m, db\u001B[38;5;241m=\u001B[39m\u001B[38;5;124m'\u001B[39m\u001B[38;5;124mprotein\u001B[39m\u001B[38;5;124m'\u001B[39m, \u001B[38;5;28mid\u001B[39m\u001B[38;5;241m=\u001B[39msaved_brca1_id)\n\u001B[1;32m      2\u001B[0m task4_records \u001B[38;5;241m=\u001B[39m Entrez\u001B[38;5;241m.\u001B[39mread(handle)\n\u001B[1;32m      4\u001B[0m \u001B[38;5;28;01mfor\u001B[39;00m link \u001B[38;5;129;01min\u001B[39;00m task4_records[\u001B[38;5;241m0\u001B[39m][\u001B[38;5;124m'\u001B[39m\u001B[38;5;124mLinkSetDb\u001B[39m\u001B[38;5;124m'\u001B[39m][\u001B[38;5;241m0\u001B[39m][\u001B[38;5;124m'\u001B[39m\u001B[38;5;124mLink\u001B[39m\u001B[38;5;124m'\u001B[39m]:\n",
      "File \u001B[0;32m~/anaconda3/lib/python3.11/site-packages/Bio/Entrez/__init__.py:285\u001B[0m, in \u001B[0;36melink\u001B[0;34m(**keywds)\u001B[0m\n\u001B[1;32m    283\u001B[0m variables\u001B[38;5;241m.\u001B[39mupdate(keywds)\n\u001B[1;32m    284\u001B[0m request \u001B[38;5;241m=\u001B[39m _build_request(cgi, variables, join_ids\u001B[38;5;241m=\u001B[39m\u001B[38;5;28;01mFalse\u001B[39;00m)\n\u001B[0;32m--> 285\u001B[0m \u001B[38;5;28;01mreturn\u001B[39;00m _open(request)\n",
      "File \u001B[0;32m~/anaconda3/lib/python3.11/site-packages/Bio/Entrez/__init__.py:634\u001B[0m, in \u001B[0;36m_open\u001B[0;34m(request)\u001B[0m\n\u001B[1;32m    632\u001B[0m \u001B[38;5;28;01mfor\u001B[39;00m i \u001B[38;5;129;01min\u001B[39;00m \u001B[38;5;28mrange\u001B[39m(max_tries):\n\u001B[1;32m    633\u001B[0m     \u001B[38;5;28;01mtry\u001B[39;00m:\n\u001B[0;32m--> 634\u001B[0m         handle \u001B[38;5;241m=\u001B[39m urlopen(request)\n\u001B[1;32m    635\u001B[0m     \u001B[38;5;28;01mexcept\u001B[39;00m HTTPError \u001B[38;5;28;01mas\u001B[39;00m exception:\n\u001B[1;32m    636\u001B[0m         \u001B[38;5;66;03m# Reraise if the final try fails\u001B[39;00m\n\u001B[1;32m    637\u001B[0m         \u001B[38;5;28;01mif\u001B[39;00m i \u001B[38;5;241m>\u001B[39m\u001B[38;5;241m=\u001B[39m max_tries \u001B[38;5;241m-\u001B[39m \u001B[38;5;241m1\u001B[39m:\n",
      "File \u001B[0;32m~/anaconda3/lib/python3.11/urllib/request.py:216\u001B[0m, in \u001B[0;36murlopen\u001B[0;34m(url, data, timeout, cafile, capath, cadefault, context)\u001B[0m\n\u001B[1;32m    214\u001B[0m \u001B[38;5;28;01melse\u001B[39;00m:\n\u001B[1;32m    215\u001B[0m     opener \u001B[38;5;241m=\u001B[39m _opener\n\u001B[0;32m--> 216\u001B[0m \u001B[38;5;28;01mreturn\u001B[39;00m opener\u001B[38;5;241m.\u001B[39mopen(url, data, timeout)\n",
      "File \u001B[0;32m~/anaconda3/lib/python3.11/urllib/request.py:519\u001B[0m, in \u001B[0;36mOpenerDirector.open\u001B[0;34m(self, fullurl, data, timeout)\u001B[0m\n\u001B[1;32m    516\u001B[0m     req \u001B[38;5;241m=\u001B[39m meth(req)\n\u001B[1;32m    518\u001B[0m sys\u001B[38;5;241m.\u001B[39maudit(\u001B[38;5;124m'\u001B[39m\u001B[38;5;124murllib.Request\u001B[39m\u001B[38;5;124m'\u001B[39m, req\u001B[38;5;241m.\u001B[39mfull_url, req\u001B[38;5;241m.\u001B[39mdata, req\u001B[38;5;241m.\u001B[39mheaders, req\u001B[38;5;241m.\u001B[39mget_method())\n\u001B[0;32m--> 519\u001B[0m response \u001B[38;5;241m=\u001B[39m \u001B[38;5;28mself\u001B[39m\u001B[38;5;241m.\u001B[39m_open(req, data)\n\u001B[1;32m    521\u001B[0m \u001B[38;5;66;03m# post-process response\u001B[39;00m\n\u001B[1;32m    522\u001B[0m meth_name \u001B[38;5;241m=\u001B[39m protocol\u001B[38;5;241m+\u001B[39m\u001B[38;5;124m\"\u001B[39m\u001B[38;5;124m_response\u001B[39m\u001B[38;5;124m\"\u001B[39m\n",
      "File \u001B[0;32m~/anaconda3/lib/python3.11/urllib/request.py:536\u001B[0m, in \u001B[0;36mOpenerDirector._open\u001B[0;34m(self, req, data)\u001B[0m\n\u001B[1;32m    533\u001B[0m     \u001B[38;5;28;01mreturn\u001B[39;00m result\n\u001B[1;32m    535\u001B[0m protocol \u001B[38;5;241m=\u001B[39m req\u001B[38;5;241m.\u001B[39mtype\n\u001B[0;32m--> 536\u001B[0m result \u001B[38;5;241m=\u001B[39m \u001B[38;5;28mself\u001B[39m\u001B[38;5;241m.\u001B[39m_call_chain(\u001B[38;5;28mself\u001B[39m\u001B[38;5;241m.\u001B[39mhandle_open, protocol, protocol \u001B[38;5;241m+\u001B[39m\n\u001B[1;32m    537\u001B[0m                           \u001B[38;5;124m'\u001B[39m\u001B[38;5;124m_open\u001B[39m\u001B[38;5;124m'\u001B[39m, req)\n\u001B[1;32m    538\u001B[0m \u001B[38;5;28;01mif\u001B[39;00m result:\n\u001B[1;32m    539\u001B[0m     \u001B[38;5;28;01mreturn\u001B[39;00m result\n",
      "File \u001B[0;32m~/anaconda3/lib/python3.11/urllib/request.py:496\u001B[0m, in \u001B[0;36mOpenerDirector._call_chain\u001B[0;34m(self, chain, kind, meth_name, *args)\u001B[0m\n\u001B[1;32m    494\u001B[0m \u001B[38;5;28;01mfor\u001B[39;00m handler \u001B[38;5;129;01min\u001B[39;00m handlers:\n\u001B[1;32m    495\u001B[0m     func \u001B[38;5;241m=\u001B[39m \u001B[38;5;28mgetattr\u001B[39m(handler, meth_name)\n\u001B[0;32m--> 496\u001B[0m     result \u001B[38;5;241m=\u001B[39m func(\u001B[38;5;241m*\u001B[39margs)\n\u001B[1;32m    497\u001B[0m     \u001B[38;5;28;01mif\u001B[39;00m result \u001B[38;5;129;01mis\u001B[39;00m \u001B[38;5;129;01mnot\u001B[39;00m \u001B[38;5;28;01mNone\u001B[39;00m:\n\u001B[1;32m    498\u001B[0m         \u001B[38;5;28;01mreturn\u001B[39;00m result\n",
      "File \u001B[0;32m~/anaconda3/lib/python3.11/urllib/request.py:1391\u001B[0m, in \u001B[0;36mHTTPSHandler.https_open\u001B[0;34m(self, req)\u001B[0m\n\u001B[1;32m   1390\u001B[0m \u001B[38;5;28;01mdef\u001B[39;00m \u001B[38;5;21mhttps_open\u001B[39m(\u001B[38;5;28mself\u001B[39m, req):\n\u001B[0;32m-> 1391\u001B[0m     \u001B[38;5;28;01mreturn\u001B[39;00m \u001B[38;5;28mself\u001B[39m\u001B[38;5;241m.\u001B[39mdo_open(http\u001B[38;5;241m.\u001B[39mclient\u001B[38;5;241m.\u001B[39mHTTPSConnection, req,\n\u001B[1;32m   1392\u001B[0m         context\u001B[38;5;241m=\u001B[39m\u001B[38;5;28mself\u001B[39m\u001B[38;5;241m.\u001B[39m_context, check_hostname\u001B[38;5;241m=\u001B[39m\u001B[38;5;28mself\u001B[39m\u001B[38;5;241m.\u001B[39m_check_hostname)\n",
      "File \u001B[0;32m~/anaconda3/lib/python3.11/urllib/request.py:1352\u001B[0m, in \u001B[0;36mAbstractHTTPHandler.do_open\u001B[0;34m(self, http_class, req, **http_conn_args)\u001B[0m\n\u001B[1;32m   1350\u001B[0m     \u001B[38;5;28;01mexcept\u001B[39;00m \u001B[38;5;167;01mOSError\u001B[39;00m \u001B[38;5;28;01mas\u001B[39;00m err: \u001B[38;5;66;03m# timeout error\u001B[39;00m\n\u001B[1;32m   1351\u001B[0m         \u001B[38;5;28;01mraise\u001B[39;00m URLError(err)\n\u001B[0;32m-> 1352\u001B[0m     r \u001B[38;5;241m=\u001B[39m h\u001B[38;5;241m.\u001B[39mgetresponse()\n\u001B[1;32m   1353\u001B[0m \u001B[38;5;28;01mexcept\u001B[39;00m:\n\u001B[1;32m   1354\u001B[0m     h\u001B[38;5;241m.\u001B[39mclose()\n",
      "File \u001B[0;32m~/anaconda3/lib/python3.11/http/client.py:1378\u001B[0m, in \u001B[0;36mHTTPConnection.getresponse\u001B[0;34m(self)\u001B[0m\n\u001B[1;32m   1376\u001B[0m \u001B[38;5;28;01mtry\u001B[39;00m:\n\u001B[1;32m   1377\u001B[0m     \u001B[38;5;28;01mtry\u001B[39;00m:\n\u001B[0;32m-> 1378\u001B[0m         response\u001B[38;5;241m.\u001B[39mbegin()\n\u001B[1;32m   1379\u001B[0m     \u001B[38;5;28;01mexcept\u001B[39;00m \u001B[38;5;167;01mConnectionError\u001B[39;00m:\n\u001B[1;32m   1380\u001B[0m         \u001B[38;5;28mself\u001B[39m\u001B[38;5;241m.\u001B[39mclose()\n",
      "File \u001B[0;32m~/anaconda3/lib/python3.11/http/client.py:318\u001B[0m, in \u001B[0;36mHTTPResponse.begin\u001B[0;34m(self)\u001B[0m\n\u001B[1;32m    316\u001B[0m \u001B[38;5;66;03m# read until we get a non-100 response\u001B[39;00m\n\u001B[1;32m    317\u001B[0m \u001B[38;5;28;01mwhile\u001B[39;00m \u001B[38;5;28;01mTrue\u001B[39;00m:\n\u001B[0;32m--> 318\u001B[0m     version, status, reason \u001B[38;5;241m=\u001B[39m \u001B[38;5;28mself\u001B[39m\u001B[38;5;241m.\u001B[39m_read_status()\n\u001B[1;32m    319\u001B[0m     \u001B[38;5;28;01mif\u001B[39;00m status \u001B[38;5;241m!=\u001B[39m CONTINUE:\n\u001B[1;32m    320\u001B[0m         \u001B[38;5;28;01mbreak\u001B[39;00m\n",
      "File \u001B[0;32m~/anaconda3/lib/python3.11/http/client.py:279\u001B[0m, in \u001B[0;36mHTTPResponse._read_status\u001B[0;34m(self)\u001B[0m\n\u001B[1;32m    278\u001B[0m \u001B[38;5;28;01mdef\u001B[39;00m \u001B[38;5;21m_read_status\u001B[39m(\u001B[38;5;28mself\u001B[39m):\n\u001B[0;32m--> 279\u001B[0m     line \u001B[38;5;241m=\u001B[39m \u001B[38;5;28mstr\u001B[39m(\u001B[38;5;28mself\u001B[39m\u001B[38;5;241m.\u001B[39mfp\u001B[38;5;241m.\u001B[39mreadline(_MAXLINE \u001B[38;5;241m+\u001B[39m \u001B[38;5;241m1\u001B[39m), \u001B[38;5;124m\"\u001B[39m\u001B[38;5;124miso-8859-1\u001B[39m\u001B[38;5;124m\"\u001B[39m)\n\u001B[1;32m    280\u001B[0m     \u001B[38;5;28;01mif\u001B[39;00m \u001B[38;5;28mlen\u001B[39m(line) \u001B[38;5;241m>\u001B[39m _MAXLINE:\n\u001B[1;32m    281\u001B[0m         \u001B[38;5;28;01mraise\u001B[39;00m LineTooLong(\u001B[38;5;124m\"\u001B[39m\u001B[38;5;124mstatus line\u001B[39m\u001B[38;5;124m\"\u001B[39m)\n",
      "File \u001B[0;32m~/anaconda3/lib/python3.11/socket.py:706\u001B[0m, in \u001B[0;36mSocketIO.readinto\u001B[0;34m(self, b)\u001B[0m\n\u001B[1;32m    704\u001B[0m \u001B[38;5;28;01mwhile\u001B[39;00m \u001B[38;5;28;01mTrue\u001B[39;00m:\n\u001B[1;32m    705\u001B[0m     \u001B[38;5;28;01mtry\u001B[39;00m:\n\u001B[0;32m--> 706\u001B[0m         \u001B[38;5;28;01mreturn\u001B[39;00m \u001B[38;5;28mself\u001B[39m\u001B[38;5;241m.\u001B[39m_sock\u001B[38;5;241m.\u001B[39mrecv_into(b)\n\u001B[1;32m    707\u001B[0m     \u001B[38;5;28;01mexcept\u001B[39;00m timeout:\n\u001B[1;32m    708\u001B[0m         \u001B[38;5;28mself\u001B[39m\u001B[38;5;241m.\u001B[39m_timeout_occurred \u001B[38;5;241m=\u001B[39m \u001B[38;5;28;01mTrue\u001B[39;00m\n",
      "File \u001B[0;32m~/anaconda3/lib/python3.11/ssl.py:1311\u001B[0m, in \u001B[0;36mSSLSocket.recv_into\u001B[0;34m(self, buffer, nbytes, flags)\u001B[0m\n\u001B[1;32m   1307\u001B[0m     \u001B[38;5;28;01mif\u001B[39;00m flags \u001B[38;5;241m!=\u001B[39m \u001B[38;5;241m0\u001B[39m:\n\u001B[1;32m   1308\u001B[0m         \u001B[38;5;28;01mraise\u001B[39;00m \u001B[38;5;167;01mValueError\u001B[39;00m(\n\u001B[1;32m   1309\u001B[0m           \u001B[38;5;124m\"\u001B[39m\u001B[38;5;124mnon-zero flags not allowed in calls to recv_into() on \u001B[39m\u001B[38;5;132;01m%s\u001B[39;00m\u001B[38;5;124m\"\u001B[39m \u001B[38;5;241m%\u001B[39m\n\u001B[1;32m   1310\u001B[0m           \u001B[38;5;28mself\u001B[39m\u001B[38;5;241m.\u001B[39m\u001B[38;5;18m__class__\u001B[39m)\n\u001B[0;32m-> 1311\u001B[0m     \u001B[38;5;28;01mreturn\u001B[39;00m \u001B[38;5;28mself\u001B[39m\u001B[38;5;241m.\u001B[39mread(nbytes, buffer)\n\u001B[1;32m   1312\u001B[0m \u001B[38;5;28;01melse\u001B[39;00m:\n\u001B[1;32m   1313\u001B[0m     \u001B[38;5;28;01mreturn\u001B[39;00m \u001B[38;5;28msuper\u001B[39m()\u001B[38;5;241m.\u001B[39mrecv_into(buffer, nbytes, flags)\n",
      "File \u001B[0;32m~/anaconda3/lib/python3.11/ssl.py:1167\u001B[0m, in \u001B[0;36mSSLSocket.read\u001B[0;34m(self, len, buffer)\u001B[0m\n\u001B[1;32m   1165\u001B[0m \u001B[38;5;28;01mtry\u001B[39;00m:\n\u001B[1;32m   1166\u001B[0m     \u001B[38;5;28;01mif\u001B[39;00m buffer \u001B[38;5;129;01mis\u001B[39;00m \u001B[38;5;129;01mnot\u001B[39;00m \u001B[38;5;28;01mNone\u001B[39;00m:\n\u001B[0;32m-> 1167\u001B[0m         \u001B[38;5;28;01mreturn\u001B[39;00m \u001B[38;5;28mself\u001B[39m\u001B[38;5;241m.\u001B[39m_sslobj\u001B[38;5;241m.\u001B[39mread(\u001B[38;5;28mlen\u001B[39m, buffer)\n\u001B[1;32m   1168\u001B[0m     \u001B[38;5;28;01melse\u001B[39;00m:\n\u001B[1;32m   1169\u001B[0m         \u001B[38;5;28;01mreturn\u001B[39;00m \u001B[38;5;28mself\u001B[39m\u001B[38;5;241m.\u001B[39m_sslobj\u001B[38;5;241m.\u001B[39mread(\u001B[38;5;28mlen\u001B[39m)\n",
      "\u001B[0;31mKeyboardInterrupt\u001B[0m: "
     ]
    }
   ],
   "source": [
    "handle = Entrez.elink(dbfrom='gene', db='protein', id=saved_brca1_id)\n",
    "task4_records = Entrez.read(handle)\n",
    "\n",
    "for link in task4_records[0]['LinkSetDb'][0]['Link']:\n",
    "    handle = Entrez.esummary(db='protein', id=link['Id'])\n",
    "    record_task4 = Entrez.read(handle)\n",
    "    print(record_task4[0]['Gi'])"
   ],
   "metadata": {
    "collapsed": false,
    "ExecuteTime": {
     "end_time": "2024-10-19T22:44:59.865641Z",
     "start_time": "2024-10-19T22:44:52.545159Z"
    }
   },
   "id": "8569ff0bbc981d7e",
   "execution_count": 37
  },
  {
   "cell_type": "markdown",
   "source": [
    "# ZADANIE 5"
   ],
   "metadata": {
    "collapsed": false
   },
   "id": "c4cd9d2f1b66b877"
  },
  {
   "cell_type": "code",
   "outputs": [
    {
     "name": "stdout",
     "output_type": "stream",
     "text": [
      "TASK 5:\n",
      "NAME=Q3LRJ6_HUMAN\n",
      "SEQUENCE=MDLSALRVEEVQNVINAMQKILECPICLELIKEPVSTKCDHIFCKFCMLKLLNQKKGPSQCPLCKNDITKRSLQESTRFSQLVEELLKIICAFQLDTGLEYANSYNFAKKENNSPEHLKDEVSIIQSMGYRNRAKRLLQSEPENPSLQETSLSVQLSNLGTVRTLRTKQRIQPQKTSVYIELGSDSSEDTVNKATYCSVGDQELLQITPQGTRDEISLDSAKKAACEFSETDVTNTEHHQPSNNDLNTTEKRAAERHPEKYQGSSVSNLHVEPCGTNTHASSLQHENSSLLLTKDRMNVEKAEFCNKSKQPGLARSQHNRWAGSKETCNDRRTPSTEKKVDLNADPLCERKEWNKQKLPCSENPRDTEDVPWITLNSSIQKVNEWFSRSDELLGSDDSHDGESESNAKVADVLDVLNEVDEYSGSSEKIDLLASDPHEALICKSERVHSKSVESNIEDKIFGKTYRKKASLPNLSHVTENLIIGAFVTEPQIIQERPLTNKLKRKRRPTSGLHPEDFIKKADLAVQKTPEMINQGTNQTEQNGQVMNITNSGHENKTKGDSIQNEKNPNPIESLEKESAFKTKAEPISSSISNMELELNIHNSKAPKKNRLRRKSSTRHIHALELVVSRNLSPPNCTELQIDSCSSSEEIKKKKYNQMPVRHSRNLQLMEGKEPATGAKKSNKPNEQTSKRHDSDTFPELKLTNAPGSFTKCSNTSELKEFVNPSLPREEKEEKLETVKVSNNAEDPKDLMLSGERVLQTERSVESSSISLVPGTDYGTQESISLLEVSTLGKAKTEPNKCVSQCAAFENPKGLIHGCSKDNRNDTEGFKYPLGHEVNHSRETSIEMEESELDAQYLQNTFKVSKRQSFAPFSNPGNAEEECATFSAHSGSLKKQSPKVTFECEQKEENQGKNESNIKPVQTVNITAGFPVVGQKDKPVDNAKCSIKGGSRFCLSSQFRGNETGLITPNKHGLLQNPYRIPPLFPIKSFVKTKCKKNLLEENFEEHSMSPEREMGNENIPSTVSTISRNNIRENVFKEASSSNINEVGSSTNEVGSSINEIGSSDENIQAELGRNRGPKLNAMLRLGVLQPEVYKQSLPGSNCKHPEIKKQEYEEVVQTVNTDFSPYLISDNLEQPMGSSHASQVCSETPDDLLDDGEIKEDTSFAENDIKESSAVFSKSVQKGELSRSPSPFTHTHLAQGYRRGAKKLESSEENLSSEDEELPCFQHLLFGKVNNIPSQSTRHSTVATECLSKNTEENLLSLKNSLNDCSNQVILAKASQEHHLSEETKCSASLFSSQCSELEDLTANTNTQDPFLIGSSKQMRHQSESQGVGLSDKELVSDDEERGTGLEENNQEEQSMDSNLGEAASGCESETSVSEDCSGLSSQSDILTTQQRDTMQHNLIKLQQEMAELEAVLEQHGSQPSNSYPSIISDSSALEDLRNPEQSTSEKAVLTSQKSSEYPISQNPEGLSADKFEVSADSSTSKNKEPGVERSSPSKCPSLDDRWYMHSCSGSLQNRNYPSQEELIKVVDVEEQQLEESGPHDLTETSYLPRQDLEGTPYLESGISLFSDDPESDPSEDRAPESARVGNIPSSTSALKVPQLKVAESAQSPAAAHTTDTAGYNAMEESVSREKPELTASTERVNKRMSMVVSGLTPEEFMLVYKFARKHHITLTNLITEETTHVVMKTDAEFVCERTLKYFLGIAGGKWVVSYFWVTQSIKERKMLNEHDFEVRGDVVNGRNHQGPKRARESQDRKIFRGLEICCYGPFTNMPTDQLEWMVQLCGASVVKELSSFTLGTGVHPIVVVQPDAWTEDNGFHAIGQMCEAPVVTREWVLDSVALYQCQELDTYLIPQIPHSHY\n"
     ]
    }
   ],
   "source": [
    "prot_id = '121949022'\n",
    "handle = Entrez.efetch(db='protein', id=prot_id, rettype='gb')\n",
    "record_task5 = SeqIO.read(handle, 'genbank')\n",
    "print(\"TASK 5:\")\n",
    "print(f\"NAME={record_task5.name}\")\n",
    "print(f\"SEQUENCE={record_task5.seq}\")"
   ],
   "metadata": {
    "collapsed": false,
    "ExecuteTime": {
     "end_time": "2024-10-19T22:45:01.645874Z",
     "start_time": "2024-10-19T22:45:00.963043Z"
    }
   },
   "id": "9020675dc9387587",
   "execution_count": 38
  },
  {
   "cell_type": "markdown",
   "source": [
    "# ZADANIE 6"
   ],
   "metadata": {
    "collapsed": false
   },
   "id": "4974c6aa8758399e"
  },
  {
   "cell_type": "code",
   "outputs": [
    {
     "name": "stdout",
     "output_type": "stream",
     "text": [
      "Liczba mutacji: 22102\n",
      "SNP_ID=1491587915\n",
      "SNP_CLASS=delins\n",
      "GENE=[{'NAME': 'BRCA1', 'GENE_ID': '672'}]\n",
      "CONTIGPOS=17:43100630\n",
      "------------------------\n",
      "SNP_ID=1491573730\n",
      "SNP_CLASS=ins\n",
      "GENE=[{'NAME': 'BRCA1', 'GENE_ID': '672'}]\n",
      "CONTIGPOS=17:43100630\n",
      "------------------------\n",
      "SNP_ID=1491558507\n",
      "SNP_CLASS=delins\n",
      "GENE=[{'NAME': 'BRCA1', 'GENE_ID': '672'}]\n",
      "CONTIGPOS=17:43061586\n",
      "------------------------\n",
      "SNP_ID=80357783\n",
      "SNP_CLASS=delins\n",
      "GENE=[{'NAME': 'BRCA1', 'GENE_ID': '672'}, {'NAME': 'NBR2', 'GENE_ID': '10230'}]\n",
      "CONTIGPOS=17:43124030\n",
      "------------------------\n",
      "SNP_ID=1491538523\n",
      "SNP_CLASS=ins\n",
      "GENE=[{'NAME': 'BRCA1', 'GENE_ID': '672'}]\n",
      "CONTIGPOS=17:43066834\n",
      "------------------------\n",
      "SNP_ID=1491529521\n",
      "SNP_CLASS=ins\n",
      "GENE=[{'NAME': 'BRCA1', 'GENE_ID': '672'}]\n",
      "CONTIGPOS=17:43100618\n",
      "------------------------\n",
      "SNP_ID=781716310\n",
      "SNP_CLASS=delins\n",
      "GENE=[{'NAME': 'BRCA1', 'GENE_ID': '672'}]\n",
      "CONTIGPOS=17:43048519\n",
      "------------------------\n",
      "SNP_ID=1491496749\n",
      "SNP_CLASS=del\n",
      "GENE=[{'NAME': 'BRCA1', 'GENE_ID': '672'}]\n",
      "CONTIGPOS=17:43100595\n",
      "------------------------\n",
      "SNP_ID=36085989\n",
      "SNP_CLASS=delins\n",
      "GENE=[{'NAME': 'BRCA1', 'GENE_ID': '672'}]\n",
      "CONTIGPOS=17:43102949\n",
      "------------------------\n",
      "SNP_ID=1325492180\n",
      "SNP_CLASS=delins\n",
      "GENE=[{'NAME': 'BRCA1', 'GENE_ID': '672'}]\n",
      "CONTIGPOS=17:43100633\n",
      "------------------------\n",
      "SNP_ID=200639029\n",
      "SNP_CLASS=delins\n",
      "GENE=[{'NAME': 'BRCA1', 'GENE_ID': '672'}]\n",
      "CONTIGPOS=17:43100575\n",
      "------------------------\n",
      "SNP_ID=1491320693\n",
      "SNP_CLASS=delins\n",
      "GENE=[{'NAME': 'BRCA1', 'GENE_ID': '672'}]\n",
      "CONTIGPOS=17:43086148\n",
      "------------------------\n",
      "SNP_ID=397509309\n",
      "SNP_CLASS=delins\n",
      "GENE=[{'NAME': 'BRCA1', 'GENE_ID': '672'}, {'NAME': 'NBR2', 'GENE_ID': '10230'}]\n",
      "CONTIGPOS=17:43124028\n",
      "------------------------\n",
      "SNP_ID=1491277616\n",
      "SNP_CLASS=ins\n",
      "GENE=[{'NAME': 'BRCA1', 'GENE_ID': '672'}]\n",
      "CONTIGPOS=17:43100678\n",
      "------------------------\n",
      "SNP_ID=869125411\n",
      "SNP_CLASS=delins\n",
      "GENE=[{'NAME': 'BRCA1', 'GENE_ID': '672'}]\n",
      "CONTIGPOS=17:43061586\n",
      "------------------------\n",
      "SNP_ID=1491270958\n",
      "SNP_CLASS=delins\n",
      "GENE=[{'NAME': 'BRCA1', 'GENE_ID': '672'}]\n",
      "CONTIGPOS=17:43100586\n",
      "------------------------\n",
      "SNP_ID=1491245326\n",
      "SNP_CLASS=del\n",
      "GENE=[{'NAME': 'BRCA1', 'GENE_ID': '672'}]\n",
      "CONTIGPOS=17:43100618\n",
      "------------------------\n",
      "SNP_ID=1491242099\n",
      "SNP_CLASS=del\n",
      "GENE=[{'NAME': 'BRCA1', 'GENE_ID': '672'}]\n",
      "CONTIGPOS=17:43100678\n",
      "------------------------\n",
      "SNP_ID=200083681\n",
      "SNP_CLASS=delins\n",
      "GENE=[{'NAME': 'BRCA1', 'GENE_ID': '672'}]\n",
      "CONTIGPOS=17:43100610\n",
      "------------------------\n",
      "SNP_ID=80357914\n",
      "SNP_CLASS=delins\n",
      "GENE=[{'NAME': 'BRCA1', 'GENE_ID': '672'}, {'NAME': 'NBR2', 'GENE_ID': '10230'}]\n",
      "CONTIGPOS=17:43124028\n",
      "------------------------\n",
      "SNP_ID=1491145124\n",
      "SNP_CLASS=del\n",
      "GENE=[{'NAME': 'BRCA1', 'GENE_ID': '672'}]\n",
      "CONTIGPOS=17:43066834\n",
      "------------------------\n",
      "SNP_ID=61461583\n",
      "SNP_CLASS=delins\n",
      "GENE=[{'NAME': 'BRCA1', 'GENE_ID': '672'}]\n",
      "CONTIGPOS=17:43119277\n",
      "------------------------\n",
      "SNP_ID=1491102232\n",
      "SNP_CLASS=delins\n",
      "GENE=[{'NAME': 'BRCA1', 'GENE_ID': '672'}]\n",
      "CONTIGPOS=17:43100633\n",
      "------------------------\n",
      "SNP_ID=1491092005\n",
      "SNP_CLASS=ins\n",
      "GENE=[{'NAME': 'BRCA1', 'GENE_ID': '672'}]\n",
      "CONTIGPOS=17:43100595\n",
      "------------------------\n",
      "SNP_ID=1332474276\n",
      "SNP_CLASS=delins\n",
      "GENE=[{'NAME': 'BRCA1', 'GENE_ID': '672'}]\n",
      "CONTIGPOS=17:43100647\n",
      "------------------------\n",
      "SNP_ID=35202419\n",
      "SNP_CLASS=delins\n",
      "GENE=[{'NAME': 'BRCA1', 'GENE_ID': '672'}]\n",
      "CONTIGPOS=17:43107063\n",
      "------------------------\n",
      "SNP_ID=35851659\n",
      "SNP_CLASS=delins\n",
      "GENE=[{'NAME': 'BRCA1', 'GENE_ID': '672'}]\n",
      "CONTIGPOS=17:43114391\n",
      "------------------------\n",
      "SNP_ID=766678487\n",
      "SNP_CLASS=delins\n",
      "GENE=[{'NAME': 'BRCA1', 'GENE_ID': '672'}]\n",
      "CONTIGPOS=17:43106119\n",
      "------------------------\n",
      "SNP_ID=1491017917\n",
      "SNP_CLASS=delins\n",
      "GENE=[{'NAME': 'BRCA1', 'GENE_ID': '672'}]\n",
      "CONTIGPOS=17:43050617\n",
      "------------------------\n",
      "SNP_ID=1490974929\n",
      "SNP_CLASS=snv\n",
      "GENE=[{'NAME': 'BRCA1', 'GENE_ID': '672'}]\n",
      "CONTIGPOS=17:43065035\n",
      "------------------------\n",
      "SNP_ID=1490924135\n",
      "SNP_CLASS=del\n",
      "GENE=[{'NAME': 'BRCA1', 'GENE_ID': '672'}]\n",
      "CONTIGPOS=17:43100706\n",
      "------------------------\n",
      "SNP_ID=1490908819\n",
      "SNP_CLASS=snv\n",
      "GENE=[{'NAME': 'BRCA1', 'GENE_ID': '672'}]\n",
      "CONTIGPOS=17:43098674\n",
      "------------------------\n",
      "SNP_ID=1490885477\n",
      "SNP_CLASS=snv\n",
      "GENE=[{'NAME': 'BRCA1', 'GENE_ID': '672'}]\n",
      "CONTIGPOS=17:43060777\n",
      "------------------------\n",
      "SNP_ID=1490873509\n",
      "SNP_CLASS=snv\n",
      "GENE=[{'NAME': 'BRCA1', 'GENE_ID': '672'}]\n",
      "CONTIGPOS=17:43089834\n",
      "------------------------\n",
      "SNP_ID=1490855150\n",
      "SNP_CLASS=snv\n",
      "GENE=[{'NAME': 'BRCA1', 'GENE_ID': '672'}]\n",
      "CONTIGPOS=17:43058414\n",
      "------------------------\n",
      "SNP_ID=1490780009\n",
      "SNP_CLASS=snv\n",
      "GENE=[{'NAME': 'BRCA1', 'GENE_ID': '672'}]\n",
      "CONTIGPOS=17:43111560\n",
      "------------------------\n",
      "SNP_ID=1490755096\n",
      "SNP_CLASS=delins\n",
      "GENE=[{'NAME': 'BRCA1', 'GENE_ID': '672'}]\n",
      "CONTIGPOS=17:43118579\n",
      "------------------------\n",
      "SNP_ID=1490688568\n",
      "SNP_CLASS=snv\n",
      "GENE=[{'NAME': 'BRCA1', 'GENE_ID': '672'}]\n",
      "CONTIGPOS=17:43080006\n",
      "------------------------\n",
      "SNP_ID=1490560470\n",
      "SNP_CLASS=snv\n",
      "GENE=[{'NAME': 'BRCA1', 'GENE_ID': '672'}]\n",
      "CONTIGPOS=17:43112404\n",
      "------------------------\n",
      "SNP_ID=1490530545\n",
      "SNP_CLASS=snv\n",
      "GENE=[{'NAME': 'BRCA1', 'GENE_ID': '672'}]\n",
      "CONTIGPOS=17:43093155\n",
      "------------------------\n",
      "SNP_ID=1490512430\n",
      "SNP_CLASS=snv\n",
      "GENE=[{'NAME': 'BRCA1', 'GENE_ID': '672'}]\n",
      "CONTIGPOS=17:43050082\n",
      "------------------------\n",
      "SNP_ID=1490510782\n",
      "SNP_CLASS=snv\n",
      "GENE=[{'NAME': 'BRCA1', 'GENE_ID': '672'}]\n",
      "CONTIGPOS=17:43080580\n",
      "------------------------\n",
      "SNP_ID=1490434928\n",
      "SNP_CLASS=snv\n",
      "GENE=[{'NAME': 'BRCA1', 'GENE_ID': '672'}]\n",
      "CONTIGPOS=17:43120513\n",
      "------------------------\n",
      "SNP_ID=1490384341\n",
      "SNP_CLASS=snv\n",
      "GENE=[{'NAME': 'BRCA1', 'GENE_ID': '672'}]\n",
      "CONTIGPOS=17:43119500\n",
      "------------------------\n",
      "SNP_ID=1490365679\n",
      "SNP_CLASS=snv\n",
      "GENE=[{'NAME': 'BRCA1', 'GENE_ID': '672'}]\n",
      "CONTIGPOS=17:43104007\n",
      "------------------------\n",
      "SNP_ID=1490308150\n",
      "SNP_CLASS=snv\n",
      "GENE=[{'NAME': 'BRCA1', 'GENE_ID': '672'}]\n",
      "CONTIGPOS=17:43072053\n",
      "------------------------\n",
      "SNP_ID=1490256626\n",
      "SNP_CLASS=snv\n",
      "GENE=[{'NAME': 'BRCA1', 'GENE_ID': '672'}]\n",
      "CONTIGPOS=17:43056175\n",
      "------------------------\n",
      "SNP_ID=1490227900\n",
      "SNP_CLASS=delins\n",
      "GENE=[{'NAME': 'BRCA1', 'GENE_ID': '672'}, {'NAME': 'NBR2', 'GENE_ID': '10230'}]\n",
      "CONTIGPOS=17:43124382\n",
      "------------------------\n",
      "SNP_ID=1490200106\n",
      "SNP_CLASS=snv\n",
      "GENE=[{'NAME': 'BRCA1', 'GENE_ID': '672'}]\n",
      "CONTIGPOS=17:43115364\n",
      "------------------------\n",
      "SNP_ID=1490185206\n",
      "SNP_CLASS=delins\n",
      "GENE=[{'NAME': 'BRCA1', 'GENE_ID': '672'}]\n",
      "CONTIGPOS=17:43112614\n",
      "------------------------\n"
     ]
    }
   ],
   "source": [
    "handle = Entrez.elink(dbfrom='gene', db='snp', id=saved_brca1_id, term='Homo Sapiens')\n",
    "result = Entrez.read(handle)\n",
    "print(f\"Liczba mutacji: {len(result[0]['LinkSetDb'][0]['Link'])}\")\n",
    "\n",
    "for link in result[0]['LinkSetDb'][0]['Link'][:50]:\n",
    "    handle = Entrez.esummary(db='snp', id=link['Id'])\n",
    "    snp_record = Entrez.read(handle)\n",
    "    snp_id = snp_record['DocumentSummarySet']['DocumentSummary'][0]['SNP_ID']\n",
    "    snp_class = snp_record['DocumentSummarySet']['DocumentSummary'][0]['SNP_CLASS']\n",
    "    gene = snp_record['DocumentSummarySet']['DocumentSummary'][0]['GENES']\n",
    "    contigpos = snp_record['DocumentSummarySet']['DocumentSummary'][0]['CHRPOS']\n",
    "    print(f\"SNP_ID={snp_id}\")\n",
    "    print(f\"SNP_CLASS={snp_class}\")\n",
    "    print(f\"GENE={gene}\")\n",
    "    print(f\"CONTIGPOS={contigpos}\")\n",
    "    print(\"------------------------\")"
   ],
   "metadata": {
    "collapsed": false,
    "ExecuteTime": {
     "end_time": "2024-10-19T22:45:38.724685Z",
     "start_time": "2024-10-19T22:45:03.249486Z"
    }
   },
   "id": "41967a45628fd3ba",
   "execution_count": 39
  },
  {
   "cell_type": "markdown",
   "source": [
    "# ZADANIE 7"
   ],
   "metadata": {
    "collapsed": false
   },
   "id": "3baffa929b2c6edd"
  },
  {
   "cell_type": "markdown",
   "source": [
    "Lista genów powiązana z nazwą BRCA1 u człowieka wskazuje na to, że gen BRCA1 jest zaangażowany w różnorodne procesy biologiczne, w tym naprawę DNA, regulację cyklu hormonalnego i wiele innych.\n",
    "Rekordy z bazy OMIM wskazują na silny związek BRCA1 z chorobami nowotworowymi (nowotwór trzustki, nowotwory piersi), a także z innymi chorobami, np niedokrwistością Fanconiego.\n",
    "W bazie SNP znaleziono ponad 21 tysięcy mutacji w obrębie genu BRCA1, co sugeruje dużą zmienność tego genu. Mutacje te są różnych typów (delins, del, ins, snv), przez co mutacje te mogą wpływać na różne aspekty funkcji biologycznych tego genu."
   ],
   "metadata": {
    "collapsed": false
   },
   "id": "fc2c3cbac7f15261"
  },
  {
   "cell_type": "code",
   "outputs": [],
   "source": [],
   "metadata": {
    "collapsed": false
   },
   "id": "6f9b4933d5cb86c2"
  }
 ],
 "metadata": {
  "kernelspec": {
   "display_name": "Python 3",
   "language": "python",
   "name": "python3"
  },
  "language_info": {
   "codemirror_mode": {
    "name": "ipython",
    "version": 2
   },
   "file_extension": ".py",
   "mimetype": "text/x-python",
   "name": "python",
   "nbconvert_exporter": "python",
   "pygments_lexer": "ipython2",
   "version": "2.7.6"
  }
 },
 "nbformat": 4,
 "nbformat_minor": 5
}
